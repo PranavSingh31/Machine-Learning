{
 "cells": [
  {
   "cell_type": "code",
   "execution_count": 2,
   "metadata": {},
   "outputs": [
    {
     "name": "stdout",
     "output_type": "stream",
     "text": [
      "[5 4 6 3 2 1]\n"
     ]
    }
   ],
   "source": [
    "#Q1 a\n",
    "import numpy as np\n",
    "arr = np.array([1,2,3,6,4,5])\n",
    "newArray = np.flipud(arr)\n",
    "print(newArray)"
   ]
  },
  {
   "cell_type": "code",
   "execution_count": 3,
   "metadata": {},
   "outputs": [
    {
     "name": "stdout",
     "output_type": "stream",
     "text": [
      "[1 2 3 2 4 5 1 2 3]\n",
      "[1 2 1 2 4 2 3 5 3]\n",
      "[1 2 3 2 4 5 1 2 3]\n"
     ]
    }
   ],
   "source": [
    "#Q1 b\n",
    "array1 = np.array([[1, 2, 3], [2, 4, 5], [1, 2, 3]])\n",
    "array2 = array1.flatten('C')\n",
    "print(array2)\n",
    "\n",
    "array3 = array1.flatten('F')\n",
    "print(array3)\n",
    "\n",
    "array4 = array1.reshape(-1)\n",
    "print(array4)"
   ]
  },
  {
   "cell_type": "code",
   "execution_count": 4,
   "metadata": {},
   "outputs": [
    {
     "name": "stdout",
     "output_type": "stream",
     "text": [
      "Array 1 = [[1 2]\n",
      " [3 4]]\n",
      "Array 2 = [[1 2]\n",
      " [3 4]]\n",
      "arr1 > arr2\n",
      "[[False False]\n",
      " [False False]]\n",
      "arr1 >= arr2\n",
      "[[ True  True]\n",
      " [ True  True]]\n",
      "arr1 < arr2\n",
      "[[False False]\n",
      " [False False]]\n",
      "arr1 <= arr2\n",
      "[[ True  True]\n",
      " [ True  True]]\n",
      "arr1 = arr2\n",
      "[[ True  True]\n",
      " [ True  True]]\n",
      "arr1 == arr2\n"
     ]
    }
   ],
   "source": [
    "#Q1 c\n",
    "arr1 = np.array([[1, 2], [3, 4]])\n",
    "arr2 = np.array([[1, 2], [3, 4]])\n",
    "\n",
    "print(f\"Array 1 = {arr1}\")\n",
    "print(f\"Array 2 = {arr2}\")\n",
    "\n",
    "print(\"arr1 > arr2\")\n",
    "print(np.greater(arr1,arr2))\n",
    "\n",
    "print(\"arr1 >= arr2\")\n",
    "print(np.greater_equal(arr1,arr2))\n",
    "\n",
    "print(\"arr1 < arr2\")\n",
    "print(np.less(arr1,arr2))\n",
    "\n",
    "print(\"arr1 <= arr2\")\n",
    "print(np.less_equal(arr1,arr2))\n",
    "\n",
    "print(\"arr1 = arr2\")\n",
    "print(np.equal(arr1,arr2))\n",
    "\n",
    "if (np.array_equal(arr1,arr2)):\n",
    "    print(\"arr1 == arr2\")\n",
    "\n",
    "else:\n",
    "    print(\"They are not equal\")"
   ]
  },
  {
   "cell_type": "code",
   "execution_count": 5,
   "metadata": {},
   "outputs": [
    {
     "name": "stdout",
     "output_type": "stream",
     "text": [
      "Most frequently occuring element is =  1\n",
      "Most frequently occuring element is =  1\n"
     ]
    }
   ],
   "source": [
    "#Q1 d\n",
    "x = np.array([1,2,3,4,5,1,2,1,1,1])\n",
    "print(\"Most frequently occuring element is = \", np.bincount(x).argmax());\n",
    "\n",
    "y = np.array([1,1,1,2,3,4,2,4,3,3])\n",
    "print(\"Most frequently occuring element is = \", np.bincount(y).argmax());"
   ]
  },
  {
   "cell_type": "code",
   "execution_count": 6,
   "metadata": {},
   "outputs": [
    {
     "name": "stdout",
     "output_type": "stream",
     "text": [
      "Sum of all elements of matrix =  45\n",
      "Sum of all Elements Row-wise =  [[14]\n",
      " [16]\n",
      " [15]]\n",
      "Sum of all Elements Columns-wise =  [[20  9 16]]\n"
     ]
    }
   ],
   "source": [
    "#Q1 e\n",
    "gfg = np.matrix('[4,1,9; 12,3,1; 4,5,6]')\n",
    "\n",
    "print(\"Sum of all elements of matrix = \", gfg.sum())\n",
    "print(\"Sum of all Elements Row-wise = \", gfg.sum(axis=1))\n",
    "print(\"Sum of all Elements Columns-wise = \", gfg.sum(axis=0))"
   ]
  },
  {
   "cell_type": "code",
   "execution_count": 7,
   "metadata": {},
   "outputs": [
    {
     "name": "stdout",
     "output_type": "stream",
     "text": [
      "Sum of diagonal elements of the Matrix =  176\n",
      "Eigen Values of the Matrix are =  [98.16835147 28.097044   49.73460452]\n",
      "Eigen Vectors of the Matrix are =  [[ 0.4574917   0.34637121 -0.15017693]\n",
      " [ 0.28447814 -0.72784061 -0.4852124 ]\n",
      " [ 0.84248058  0.59184038  0.8614034 ]]\n",
      "Inverse of Matrix =  [[ 0.02404141 -0.00911212 -0.00444671]\n",
      " [-0.01667882  0.02966905  0.0024785 ]\n",
      " [ 0.00631287 -0.01603732  0.01217379]]\n",
      "Determinant of matrix =  137180.0000000001\n"
     ]
    }
   ],
   "source": [
    "#Q1 f\n",
    "n_array = np.array([[55,25,15],[30,44,2],[11,45,77]])\n",
    "print(\"Sum of diagonal elements of the Matrix = \", np.trace(n_array))\n",
    "\n",
    "a, b = np.linalg.eig(n_array)\n",
    "print(\"Eigen Values of the Matrix are = \", a)\n",
    "print(\"Eigen Vectors of the Matrix are = \", b)\n",
    "print(\"Inverse of Matrix = \", np.linalg.inv(n_array))\n",
    "print(\"Determinant of matrix = \", np.linalg.det(n_array))"
   ]
  },
  {
   "cell_type": "code",
   "execution_count": 8,
   "metadata": {},
   "outputs": [
    {
     "name": "stdout",
     "output_type": "stream",
     "text": [
      "Sum of diagonal elements of the Matrix =  176\n",
      "Eigen Values of the Matrix are =  [98.16835147 28.097044   49.73460452]\n",
      "Eigen Vectors of the Matrix are =  [[ 0.4574917   0.34637121 -0.15017693]\n",
      " [ 0.28447814 -0.72784061 -0.4852124 ]\n",
      " [ 0.84248058  0.59184038  0.8614034 ]]\n",
      "Inverse of Matrix =  [[ 0.02404141 -0.00911212 -0.00444671]\n",
      " [-0.01667882  0.02966905  0.0024785 ]\n",
      " [ 0.00631287 -0.01603732  0.01217379]]\n",
      "Determinant of matrix =  137180.0000000001\n"
     ]
    }
   ],
   "source": [
    "#Q1 f\n",
    "n_array = np.array([[55,25,15],[30,44,2],[11,45,77]])\n",
    "print(\"Sum of diagonal elements of the Matrix = \", np.trace(n_array))\n",
    "\n",
    "a, b = np.linalg.eig(n_array)\n",
    "print(\"Eigen Values of the Matrix are = \", a)\n",
    "print(\"Eigen Vectors of the Matrix are = \", b)\n",
    "print(\"Inverse of Matrix = \", np.linalg.inv(n_array))\n",
    "print(\"Determinant of matrix = \", np.linalg.det(n_array))"
   ]
  },
  {
   "cell_type": "code",
   "execution_count": 9,
   "metadata": {},
   "outputs": [
    {
     "name": "stdout",
     "output_type": "stream",
     "text": [
      "Product of the two matrices =  [[16 19]\n",
      " [26 31]]\n",
      "Covariance between the two matrices =  [[0.5 0.5 0.5 0.5]\n",
      " [0.5 0.5 0.5 0.5]\n",
      " [0.5 0.5 0.5 0.5]\n",
      " [0.5 0.5 0.5 0.5]]\n",
      "Product of the two matrices =  [[16 19  5]\n",
      " [26 31  8]\n",
      " [46 55 14]]\n"
     ]
    },
    {
     "ename": "ValueError",
     "evalue": "all the input array dimensions for the concatenation axis must match exactly, but along dimension 1, the array at index 0 has size 2 and the array at index 1 has size 3",
     "output_type": "error",
     "traceback": [
      "\u001b[1;31m---------------------------------------------------------------------------\u001b[0m",
      "\u001b[1;31mValueError\u001b[0m                                Traceback (most recent call last)",
      "\u001b[1;32mUntitled-1.ipynb Cell 8\u001b[0m in \u001b[0;36m<cell line: 9>\u001b[1;34m()\u001b[0m\n\u001b[0;32m      <a href='vscode-notebook-cell:Untitled-1.ipynb?jupyter-notebook#ch0000008untitled?line=6'>7</a>\u001b[0m q1 \u001b[39m=\u001b[39m [[\u001b[39m4\u001b[39m,\u001b[39m5\u001b[39m,\u001b[39m1\u001b[39m],[\u001b[39m6\u001b[39m,\u001b[39m7\u001b[39m,\u001b[39m2\u001b[39m]]\n\u001b[0;32m      <a href='vscode-notebook-cell:Untitled-1.ipynb?jupyter-notebook#ch0000008untitled?line=7'>8</a>\u001b[0m \u001b[39mprint\u001b[39m(\u001b[39m\"\u001b[39m\u001b[39mProduct of the two matrices = \u001b[39m\u001b[39m\"\u001b[39m, np\u001b[39m.\u001b[39mmatmul(p1,q1))\n\u001b[1;32m----> <a href='vscode-notebook-cell:Untitled-1.ipynb?jupyter-notebook#ch0000008untitled?line=8'>9</a>\u001b[0m \u001b[39mprint\u001b[39m(\u001b[39m\"\u001b[39m\u001b[39mCovariance between the two matrices = \u001b[39m\u001b[39m\"\u001b[39m, np\u001b[39m.\u001b[39;49mcov(p1,q1))\n",
      "File \u001b[1;32m<__array_function__ internals>:180\u001b[0m, in \u001b[0;36mcov\u001b[1;34m(*args, **kwargs)\u001b[0m\n",
      "File \u001b[1;32mc:\\Users\\lenovo\\AppData\\Local\\Programs\\Python\\Python310\\lib\\site-packages\\numpy\\lib\\function_base.py:2639\u001b[0m, in \u001b[0;36mcov\u001b[1;34m(m, y, rowvar, bias, ddof, fweights, aweights, dtype)\u001b[0m\n\u001b[0;32m   2637\u001b[0m     \u001b[39mif\u001b[39;00m \u001b[39mnot\u001b[39;00m rowvar \u001b[39mand\u001b[39;00m y\u001b[39m.\u001b[39mshape[\u001b[39m0\u001b[39m] \u001b[39m!=\u001b[39m \u001b[39m1\u001b[39m:\n\u001b[0;32m   2638\u001b[0m         y \u001b[39m=\u001b[39m y\u001b[39m.\u001b[39mT\n\u001b[1;32m-> 2639\u001b[0m     X \u001b[39m=\u001b[39m np\u001b[39m.\u001b[39;49mconcatenate((X, y), axis\u001b[39m=\u001b[39;49m\u001b[39m0\u001b[39;49m)\n\u001b[0;32m   2641\u001b[0m \u001b[39mif\u001b[39;00m ddof \u001b[39mis\u001b[39;00m \u001b[39mNone\u001b[39;00m:\n\u001b[0;32m   2642\u001b[0m     \u001b[39mif\u001b[39;00m bias \u001b[39m==\u001b[39m \u001b[39m0\u001b[39m:\n",
      "File \u001b[1;32m<__array_function__ internals>:180\u001b[0m, in \u001b[0;36mconcatenate\u001b[1;34m(*args, **kwargs)\u001b[0m\n",
      "\u001b[1;31mValueError\u001b[0m: all the input array dimensions for the concatenation axis must match exactly, but along dimension 1, the array at index 0 has size 2 and the array at index 1 has size 3"
     ]
    }
   ],
   "source": [
    "#Q1 g\n",
    "p = [[1,2],[2,3]]\n",
    "q = [[4,5],[6,7]]\n",
    "print(\"Product of the two matrices = \", np.matmul(p,q))\n",
    "print(\"Covariance between the two matrices = \", np.cov(p,q))\n",
    "\n",
    "p1 = [[1,2],[2,3],[4,5]]\n",
    "q1 = [[4,5,1],[6,7,2]]\n",
    "print(\"Product of the two matrices = \", np.matmul(p1,q1))\n",
    "print(\"Covariance between the two matrices = \", np.cov(p1,q1))"
   ]
  },
  {
   "cell_type": "code",
   "execution_count": 10,
   "metadata": {},
   "outputs": [
    {
     "name": "stdout",
     "output_type": "stream",
     "text": [
      "Inner Product =  [[17 52]\n",
      " [13 62]]\n",
      "Outer Product =  [[ 2 10  0 10 20  6]\n",
      " [ 3 15  0 15 30  9]\n",
      " [ 4 20  0 20 40 12]\n",
      " [ 3 15  0 15 30  9]\n",
      " [ 2 10  0 10 20  6]\n",
      " [ 9 45  0 45 90 27]]\n",
      "Cartesian Product =  [[-20   4   7]\n",
      " [-84  36  20]]\n"
     ]
    }
   ],
   "source": [
    "#Q1 h\n",
    "x = np.array([[2,3,4],[3,2,9]])\n",
    "y = np.array([[1,5,0],[5,10,3]])\n",
    "print(\"Inner Product = \", np.inner(x,y))\n",
    "print(\"Outer Product = \", np.outer(x,y))\n",
    "print(\"Cartesian Product = \", np.cross(x,y))"
   ]
  },
  {
   "cell_type": "code",
   "execution_count": 11,
   "metadata": {},
   "outputs": [
    {
     "name": "stdout",
     "output_type": "stream",
     "text": [
      "Element wise absolute value =  [[1 2 3]\n",
      " [4 5 6]]\n",
      "25th percentile along every row :  [-0.5 -5. ]\n",
      "25th percentile along every column :  [-2.75 -0.25 -3.75]\n",
      "50th percentile along every row :  [ 1. -4.]\n",
      "50th percentile along every column :  [-1.5  1.5 -1.5]\n",
      "75th percentile along every row :  [2.  0.5]\n",
      "75th percentile along every column :  [-0.25  3.25  0.75]\n",
      "Mean of each Column :  [-1.5  1.5 -1.5]\n",
      "Mean of each Row :  [-1.5  1.5 -1.5]\n",
      "Median of each Column :  [-1.5  1.5 -1.5]\n",
      "Median of each Row :  [-1.5  1.5 -1.5]\n",
      "Standard Deviation of each Column :  [2.5 3.5 4.5]\n",
      "Standard Deviation of each Row :  [2.5 3.5 4.5]\n"
     ]
    }
   ],
   "source": [
    "#Q2 a\n",
    "array1 = np.array([[1,-2,3],[-4,5,-6]])\n",
    "\n",
    "print(\"Element wise absolute value = \", np.absolute(array1))\n",
    "\n",
    "np.ndarray.flatten(array1)\n",
    "\n",
    "print(\"25th percentile along every row : \", np.percentile(array1, 25, axis=1))\n",
    "print(\"25th percentile along every column : \", np.percentile(array1, 25, axis=0))\n",
    "\n",
    "\n",
    "print(\"50th percentile along every row : \", np.percentile(array1, 50, axis=1))\n",
    "print(\"50th percentile along every column : \", np.percentile(array1, 50, axis=0))\n",
    "\n",
    "\n",
    "print(\"75th percentile along every row : \", np.percentile(array1, 75, axis=1))\n",
    "print(\"75th percentile along every column : \", np.percentile(array1, 75, axis=0))\n",
    "\n",
    "print(\"Mean of each Column : \", np.mean(array1,axis=0))\n",
    "print(\"Mean of each Row : \", np.mean(array1,axis=0))\n",
    "\n",
    "print(\"Median of each Column : \", np.median(array1,axis=0))\n",
    "print(\"Median of each Row : \", np.median(array1,axis=0))\n",
    "\n",
    "print(\"Standard Deviation of each Column : \", np.std(array1,axis=0))\n",
    "print(\"Standard Deviation of each Row : \", np.std(array1,axis=0))"
   ]
  },
  {
   "cell_type": "code",
   "execution_count": 12,
   "metadata": {},
   "outputs": [
    {
     "name": "stdout",
     "output_type": "stream",
     "text": [
      "Floor :  [-2. -2. -1.  0.  1.  1.  3.]\n",
      "Ceiling :  [-1. -1. -0.  1.  2.  2.  3.]\n",
      "Truncated Values :  [-1. -1. -0.  0.  1.  1.  3.]\n",
      "Rounded Values :  [-2. -2. -0.  0.  2.  2.  3.]\n"
     ]
    }
   ],
   "source": [
    "#Q2 b\n",
    "a = np.array([-1.8,-1.6,-0.5,0.5,1.6,1.8,3.0])\n",
    "print (\"Floor : \", np.floor(a))\n",
    "print (\"Ceiling : \", np.ceil(a))\n",
    "print (\"Truncated Values : \", np.trunc(a))\n",
    "print (\"Rounded Values : \", np.round(a))"
   ]
  },
  {
   "cell_type": "code",
   "execution_count": 13,
   "metadata": {},
   "outputs": [
    {
     "name": "stdout",
     "output_type": "stream",
     "text": [
      "Sorted array :  [ 10  16  16  52  54  62 453]\n",
      "Indices of sorted array :  [0 3 4 1 5 2 6]\n",
      "4 smallest elements :  [10 16 16 52]\n",
      "5 largest elements :  [ 16  52  54  62 453]\n"
     ]
    }
   ],
   "source": [
    "#Q3 a\n",
    "a = np.array([10,52,62,16,16,54,453])\n",
    "print (\"Sorted array : \", np.sort(a))\n",
    "print (\"Indices of sorted array : \", np.argsort(a))\n",
    "\n",
    "a = np.sort(a)\n",
    "print (\"4 smallest elements : \", a[:4])\n",
    "print (\"5 largest elements : \", a[-5:])"
   ]
  },
  {
   "cell_type": "code",
   "execution_count": 13,
   "metadata": {},
   "outputs": [
    {
     "ename": "NameError",
     "evalue": "name 'np' is not defined",
     "output_type": "error",
     "traceback": [
      "\u001b[1;31m---------------------------------------------------------------------------\u001b[0m",
      "\u001b[1;31mNameError\u001b[0m                                 Traceback (most recent call last)",
      "\u001b[1;32mc:\\Users\\lenovo\\Downloads\\Assignment - 1\\Assignment-1.ipynb Cell 13\u001b[0m in \u001b[0;36m<cell line: 1>\u001b[1;34m()\u001b[0m\n\u001b[1;32m----> <a href='vscode-notebook-cell:/c%3A/Users/lenovo/Downloads/Assignment%20-%201/Assignment-1.ipynb#X15sZmlsZQ%3D%3D?line=0'>1</a>\u001b[0m a \u001b[39m=\u001b[39m np\u001b[39m.\u001b[39marray([\u001b[39m1.0\u001b[39m, \u001b[39m1.2\u001b[39m, \u001b[39m2.2\u001b[39m, \u001b[39m2.0\u001b[39m, \u001b[39m3.0\u001b[39m, \u001b[39m2.0\u001b[39m])\n\u001b[0;32m      <a href='vscode-notebook-cell:/c%3A/Users/lenovo/Downloads/Assignment%20-%201/Assignment-1.ipynb#X15sZmlsZQ%3D%3D?line=1'>2</a>\u001b[0m result1 \u001b[39m=\u001b[39m a[a \u001b[39m!=\u001b[39m a\u001b[39m.\u001b[39mastype(\u001b[39m'\u001b[39m\u001b[39mfloat64\u001b[39m\u001b[39m'\u001b[39m)]\n\u001b[0;32m      <a href='vscode-notebook-cell:/c%3A/Users/lenovo/Downloads/Assignment%20-%201/Assignment-1.ipynb#X15sZmlsZQ%3D%3D?line=2'>3</a>\u001b[0m \u001b[39mprint\u001b[39m (\u001b[39m\"\u001b[39m\u001b[39mInteger Elements only : \u001b[39m\u001b[39m\"\u001b[39m, result1)\n",
      "\u001b[1;31mNameError\u001b[0m: name 'np' is not defined"
     ]
    }
   ],
   "source": [
    "from unicodedata import decimal\n",
    "\n",
    "a = np.array([1.0, 1.2, 2.2, 2.0, 3.0, 2.0])\n",
    "result1 = a[a != a.astype('float64')]\n",
    "print (\"Integer Elements only : \", result1)\n",
    "print (\"Float Elements only : \", a[a != a.astype(int)])"
   ]
  },
  {
   "cell_type": "code",
   "execution_count": 14,
   "metadata": {},
   "outputs": [
    {
     "ename": "SyntaxError",
     "evalue": "(unicode error) 'unicodeescape' codec can't decode bytes in position 2-3: truncated \\UXXXXXXXX escape (3261716540.py, line 3)",
     "output_type": "error",
     "traceback": [
      "\u001b[1;36m  Input \u001b[1;32mIn [14]\u001b[1;36m\u001b[0m\n\u001b[1;33m    print(image_to_string(Image.open('C:\\Users\\lenovo\\Downloads\\Assignment - 1\\Arts District, Las Vegas, United States d0yYWDJ1qDI.jpg'),lang='eng'))\u001b[0m\n\u001b[1;37m                                                                                                                                       ^\u001b[0m\n\u001b[1;31mSyntaxError\u001b[0m\u001b[1;31m:\u001b[0m (unicode error) 'unicodeescape' codec can't decode bytes in position 2-3: truncated \\UXXXXXXXX escape\n"
     ]
    }
   ],
   "source": [
    "from PIL import Image\n",
    "from pytesseract import image_to_string \n",
    "print(image_to_string(Image.open('/home/ABCD/Downloads/imageABC.png'),lang='eng'))"
   ]
  },
  {
   "cell_type": "code",
   "execution_count": 2,
   "metadata": {},
   "outputs": [
    {
     "ename": "ModuleNotFoundError",
     "evalue": "No module named 'tensorflow'",
     "output_type": "error",
     "traceback": [
      "\u001b[1;31m---------------------------------------------------------------------------\u001b[0m",
      "\u001b[1;31mModuleNotFoundError\u001b[0m                       Traceback (most recent call last)",
      "\u001b[1;32mc:\\Users\\lenovo\\Downloads\\Assignment - 1\\Assignment-1.ipynb Cell 15\u001b[0m in \u001b[0;36m<cell line: 2>\u001b[1;34m()\u001b[0m\n\u001b[0;32m      <a href='vscode-notebook-cell:/c%3A/Users/lenovo/Downloads/Assignment%20-%201/Assignment-1.ipynb#X20sZmlsZQ%3D%3D?line=0'>1</a>\u001b[0m \u001b[39m# USING GRAY SCALE\u001b[39;00m\n\u001b[1;32m----> <a href='vscode-notebook-cell:/c%3A/Users/lenovo/Downloads/Assignment%20-%201/Assignment-1.ipynb#X20sZmlsZQ%3D%3D?line=1'>2</a>\u001b[0m \u001b[39mfrom\u001b[39;00m \u001b[39mkeras\u001b[39;00m\u001b[39m.\u001b[39;00m\u001b[39mpreprocessing\u001b[39;00m\u001b[39m.\u001b[39;00m\u001b[39mimage\u001b[39;00m \u001b[39mimport\u001b[39;00m save_img\n\u001b[0;32m      <a href='vscode-notebook-cell:/c%3A/Users/lenovo/Downloads/Assignment%20-%201/Assignment-1.ipynb#X20sZmlsZQ%3D%3D?line=2'>3</a>\u001b[0m \u001b[39mfrom\u001b[39;00m \u001b[39mkeras\u001b[39;00m\u001b[39m.\u001b[39;00m\u001b[39mpreprocessing\u001b[39;00m\u001b[39m.\u001b[39;00m\u001b[39mimage\u001b[39;00m \u001b[39mimport\u001b[39;00m img_to_array\n\u001b[0;32m      <a href='vscode-notebook-cell:/c%3A/Users/lenovo/Downloads/Assignment%20-%201/Assignment-1.ipynb#X20sZmlsZQ%3D%3D?line=3'>4</a>\u001b[0m img \u001b[39m=\u001b[39m load_img(\u001b[39m'\u001b[39m\u001b[39mdog.jpg\u001b[39m\u001b[39m'\u001b[39m, grayscale\u001b[39m=\u001b[39m\u001b[39mTrue\u001b[39;00m)\n",
      "File \u001b[1;32mc:\\Users\\lenovo\\AppData\\Local\\Programs\\Python\\Python310\\lib\\site-packages\\keras\\__init__.py:21\u001b[0m, in \u001b[0;36m<module>\u001b[1;34m\u001b[0m\n\u001b[0;32m     15\u001b[0m \u001b[39m\"\"\"Implementation of the Keras API, the high-level API of TensorFlow.\u001b[39;00m\n\u001b[0;32m     16\u001b[0m \n\u001b[0;32m     17\u001b[0m \u001b[39mDetailed documentation and user guides are available at\u001b[39;00m\n\u001b[0;32m     18\u001b[0m \u001b[39m[keras.io](https://keras.io).\u001b[39;00m\n\u001b[0;32m     19\u001b[0m \u001b[39m\"\"\"\u001b[39;00m\n\u001b[0;32m     20\u001b[0m \u001b[39m# pylint: disable=unused-import\u001b[39;00m\n\u001b[1;32m---> 21\u001b[0m \u001b[39mfrom\u001b[39;00m \u001b[39mtensorflow\u001b[39;00m\u001b[39m.\u001b[39;00m\u001b[39mpython\u001b[39;00m \u001b[39mimport\u001b[39;00m tf2\n\u001b[0;32m     22\u001b[0m \u001b[39mfrom\u001b[39;00m \u001b[39mkeras\u001b[39;00m \u001b[39mimport\u001b[39;00m distribute\n\u001b[0;32m     24\u001b[0m \u001b[39mfrom\u001b[39;00m \u001b[39mkeras\u001b[39;00m \u001b[39mimport\u001b[39;00m models\n",
      "\u001b[1;31mModuleNotFoundError\u001b[0m: No module named 'tensorflow'"
     ]
    }
   ],
   "source": [
    "# USING GRAY SCALE\n",
    "from keras.preprocessing.image import save_img\n",
    "from keras.preprocessing.image import img_to_array\n",
    "img = load_img('dog.jpg', grayscale=True)\n",
    "img_array = img_to_array(img)\n",
    "save_img('dog_grayscale.jpg', img_array)\n",
    "img = load_img('dog_grayscale.jpg')\n",
    "print(type(img))\n",
    "print(img.format)\n",
    "print(img.mode)\n",
    "print(img.size)\n",
    "img.show()"
   ]
  }
 ],
 "metadata": {
  "kernelspec": {
   "display_name": "Python 3.10.4 64-bit",
   "language": "python",
   "name": "python3"
  },
  "language_info": {
   "codemirror_mode": {
    "name": "ipython",
    "version": 3
   },
   "file_extension": ".py",
   "mimetype": "text/x-python",
   "name": "python",
   "nbconvert_exporter": "python",
   "pygments_lexer": "ipython3",
   "version": "3.10.4"
  },
  "orig_nbformat": 4,
  "vscode": {
   "interpreter": {
    "hash": "213524bb45a1aeaf737b1d8c77d7b8db5d425938d9dffc5f4bc6fe6dd3324700"
   }
  }
 },
 "nbformat": 4,
 "nbformat_minor": 2
}
