{
 "cells": [
  {
   "cell_type": "code",
   "execution_count": 231,
   "metadata": {
    "collapsed": true
   },
   "outputs": [],
   "source": [
    "import numpy as np\n",
    "import pandas as pd\n",
    "import seaborn as sb\n",
    "import matplotlib.pyplot as plt"
   ]
  },
  {
   "cell_type": "code",
   "execution_count": 288,
   "outputs": [
    {
     "data": {
      "text/plain": "   CustomerID  BikeBuyer  AvgMonthSpend\n0       21173          1          50.97\n1       13249          1          53.11\n2       29350          1          54.08\n3       13503          1          56.93\n4       22803          1          55.41",
      "text/html": "<div>\n<style scoped>\n    .dataframe tbody tr th:only-of-type {\n        vertical-align: middle;\n    }\n\n    .dataframe tbody tr th {\n        vertical-align: top;\n    }\n\n    .dataframe thead th {\n        text-align: right;\n    }\n</style>\n<table border=\"1\" class=\"dataframe\">\n  <thead>\n    <tr style=\"text-align: right;\">\n      <th></th>\n      <th>CustomerID</th>\n      <th>BikeBuyer</th>\n      <th>AvgMonthSpend</th>\n    </tr>\n  </thead>\n  <tbody>\n    <tr>\n      <th>0</th>\n      <td>21173</td>\n      <td>1</td>\n      <td>50.97</td>\n    </tr>\n    <tr>\n      <th>1</th>\n      <td>13249</td>\n      <td>1</td>\n      <td>53.11</td>\n    </tr>\n    <tr>\n      <th>2</th>\n      <td>29350</td>\n      <td>1</td>\n      <td>54.08</td>\n    </tr>\n    <tr>\n      <th>3</th>\n      <td>13503</td>\n      <td>1</td>\n      <td>56.93</td>\n    </tr>\n    <tr>\n      <th>4</th>\n      <td>22803</td>\n      <td>1</td>\n      <td>55.41</td>\n    </tr>\n  </tbody>\n</table>\n</div>"
     },
     "execution_count": 288,
     "metadata": {},
     "output_type": "execute_result"
    }
   ],
   "source": [
    "df = pd.read_csv('./AWCustomers.csv')\n",
    "df1 = pd.read_csv('./AWSales.csv')\n",
    "df1.head()"
   ],
   "metadata": {
    "collapsed": false,
    "pycharm": {
     "name": "#%%\n"
    }
   }
  },
  {
   "cell_type": "markdown",
   "source": [],
   "metadata": {
    "collapsed": false
   }
  },
  {
   "cell_type": "code",
   "execution_count": 289,
   "outputs": [
    {
     "data": {
      "text/plain": "   CustomerID Title FirstName MiddleName  LastName Suffix  \\\n0       21173   NaN      Chad          C      Yuan    NaN   \n1       13249   NaN      Ryan        NaN     Perry    NaN   \n2       29350   NaN     Julia        NaN  Thompson    NaN   \n3       13503   NaN  Theodore        NaN     Gomez    NaN   \n4       22803   NaN  Marshall          J      Shan    NaN   \n\n             AddressLine1 AddressLine2         City    StateProvinceName  ...  \\\n0      7090 C. Mount Hood          NaN   Wollongong      New South Wales  ...   \n1     3651 Willow Lake Rd          NaN      Shawnee     British Columbia  ...   \n2  1774 Tice Valley Blvd.          NaN  West Covina           California  ...   \n3         2103 Baldwin Dr          NaN    Liverpool              England  ...   \n4         Am Gallberg 234          NaN        Werne  Nordrhein-Westfalen  ...   \n\n  Gender MaritalStatus HomeOwnerFlag NumberCarsOwned NumberChildrenAtHome  \\\n0      M             M             1               3                    0   \n1      M             M             1               2                    1   \n2      F             S             0               3                    0   \n3      M             M             1               2                    1   \n4      M             S             1               1                    0   \n\n  TotalChildren YearlyIncome LastUpdated  BikeBuyer  AvgMonthSpend  \n0             1        81916  2017-03-06          1          50.97  \n1             2        81076  2017-03-06          1          53.11  \n2             0        86387  2017-03-06          1          54.08  \n3             2        61481  2017-03-06          1          56.93  \n4             0        51804  2017-03-06          1          55.41  \n\n[5 rows x 26 columns]",
      "text/html": "<div>\n<style scoped>\n    .dataframe tbody tr th:only-of-type {\n        vertical-align: middle;\n    }\n\n    .dataframe tbody tr th {\n        vertical-align: top;\n    }\n\n    .dataframe thead th {\n        text-align: right;\n    }\n</style>\n<table border=\"1\" class=\"dataframe\">\n  <thead>\n    <tr style=\"text-align: right;\">\n      <th></th>\n      <th>CustomerID</th>\n      <th>Title</th>\n      <th>FirstName</th>\n      <th>MiddleName</th>\n      <th>LastName</th>\n      <th>Suffix</th>\n      <th>AddressLine1</th>\n      <th>AddressLine2</th>\n      <th>City</th>\n      <th>StateProvinceName</th>\n      <th>...</th>\n      <th>Gender</th>\n      <th>MaritalStatus</th>\n      <th>HomeOwnerFlag</th>\n      <th>NumberCarsOwned</th>\n      <th>NumberChildrenAtHome</th>\n      <th>TotalChildren</th>\n      <th>YearlyIncome</th>\n      <th>LastUpdated</th>\n      <th>BikeBuyer</th>\n      <th>AvgMonthSpend</th>\n    </tr>\n  </thead>\n  <tbody>\n    <tr>\n      <th>0</th>\n      <td>21173</td>\n      <td>NaN</td>\n      <td>Chad</td>\n      <td>C</td>\n      <td>Yuan</td>\n      <td>NaN</td>\n      <td>7090 C. Mount Hood</td>\n      <td>NaN</td>\n      <td>Wollongong</td>\n      <td>New South Wales</td>\n      <td>...</td>\n      <td>M</td>\n      <td>M</td>\n      <td>1</td>\n      <td>3</td>\n      <td>0</td>\n      <td>1</td>\n      <td>81916</td>\n      <td>2017-03-06</td>\n      <td>1</td>\n      <td>50.97</td>\n    </tr>\n    <tr>\n      <th>1</th>\n      <td>13249</td>\n      <td>NaN</td>\n      <td>Ryan</td>\n      <td>NaN</td>\n      <td>Perry</td>\n      <td>NaN</td>\n      <td>3651 Willow Lake Rd</td>\n      <td>NaN</td>\n      <td>Shawnee</td>\n      <td>British Columbia</td>\n      <td>...</td>\n      <td>M</td>\n      <td>M</td>\n      <td>1</td>\n      <td>2</td>\n      <td>1</td>\n      <td>2</td>\n      <td>81076</td>\n      <td>2017-03-06</td>\n      <td>1</td>\n      <td>53.11</td>\n    </tr>\n    <tr>\n      <th>2</th>\n      <td>29350</td>\n      <td>NaN</td>\n      <td>Julia</td>\n      <td>NaN</td>\n      <td>Thompson</td>\n      <td>NaN</td>\n      <td>1774 Tice Valley Blvd.</td>\n      <td>NaN</td>\n      <td>West Covina</td>\n      <td>California</td>\n      <td>...</td>\n      <td>F</td>\n      <td>S</td>\n      <td>0</td>\n      <td>3</td>\n      <td>0</td>\n      <td>0</td>\n      <td>86387</td>\n      <td>2017-03-06</td>\n      <td>1</td>\n      <td>54.08</td>\n    </tr>\n    <tr>\n      <th>3</th>\n      <td>13503</td>\n      <td>NaN</td>\n      <td>Theodore</td>\n      <td>NaN</td>\n      <td>Gomez</td>\n      <td>NaN</td>\n      <td>2103 Baldwin Dr</td>\n      <td>NaN</td>\n      <td>Liverpool</td>\n      <td>England</td>\n      <td>...</td>\n      <td>M</td>\n      <td>M</td>\n      <td>1</td>\n      <td>2</td>\n      <td>1</td>\n      <td>2</td>\n      <td>61481</td>\n      <td>2017-03-06</td>\n      <td>1</td>\n      <td>56.93</td>\n    </tr>\n    <tr>\n      <th>4</th>\n      <td>22803</td>\n      <td>NaN</td>\n      <td>Marshall</td>\n      <td>J</td>\n      <td>Shan</td>\n      <td>NaN</td>\n      <td>Am Gallberg 234</td>\n      <td>NaN</td>\n      <td>Werne</td>\n      <td>Nordrhein-Westfalen</td>\n      <td>...</td>\n      <td>M</td>\n      <td>S</td>\n      <td>1</td>\n      <td>1</td>\n      <td>0</td>\n      <td>0</td>\n      <td>51804</td>\n      <td>2017-03-06</td>\n      <td>1</td>\n      <td>55.41</td>\n    </tr>\n  </tbody>\n</table>\n<p>5 rows × 26 columns</p>\n</div>"
     },
     "execution_count": 289,
     "metadata": {},
     "output_type": "execute_result"
    }
   ],
   "source": [
    "df = pd.merge(df, df1, on='CustomerID')\n",
    "df.head()"
   ],
   "metadata": {
    "collapsed": false,
    "pycharm": {
     "name": "#%%\n"
    }
   }
  },
  {
   "cell_type": "code",
   "execution_count": 290,
   "outputs": [
    {
     "data": {
      "text/plain": "Index(['CustomerID', 'Title', 'FirstName', 'MiddleName', 'LastName', 'Suffix',\n       'AddressLine1', 'AddressLine2', 'City', 'StateProvinceName',\n       'CountryRegionName', 'PostalCode', 'PhoneNumber', 'BirthDate',\n       'Education', 'Occupation', 'Gender', 'MaritalStatus', 'HomeOwnerFlag',\n       'NumberCarsOwned', 'NumberChildrenAtHome', 'TotalChildren',\n       'YearlyIncome', 'LastUpdated', 'BikeBuyer', 'AvgMonthSpend'],\n      dtype='object')"
     },
     "execution_count": 290,
     "metadata": {},
     "output_type": "execute_result"
    }
   ],
   "source": [
    "df.columns"
   ],
   "metadata": {
    "collapsed": false,
    "pycharm": {
     "name": "#%%\n"
    }
   }
  },
  {
   "cell_type": "code",
   "execution_count": 291,
   "outputs": [
    {
     "name": "stdout",
     "output_type": "stream",
     "text": [
      "<class 'pandas.core.frame.DataFrame'>\n",
      "Int64Index: 18361 entries, 0 to 18360\n",
      "Data columns (total 26 columns):\n",
      " #   Column                Non-Null Count  Dtype  \n",
      "---  ------                --------------  -----  \n",
      " 0   CustomerID            18361 non-null  int64  \n",
      " 1   Title                 101 non-null    object \n",
      " 2   FirstName             18361 non-null  object \n",
      " 3   MiddleName            10572 non-null  object \n",
      " 4   LastName              18361 non-null  object \n",
      " 5   Suffix                3 non-null      object \n",
      " 6   AddressLine1          18361 non-null  object \n",
      " 7   AddressLine2          311 non-null    object \n",
      " 8   City                  18361 non-null  object \n",
      " 9   StateProvinceName     18361 non-null  object \n",
      " 10  CountryRegionName     18361 non-null  object \n",
      " 11  PostalCode            18361 non-null  object \n",
      " 12  PhoneNumber           18361 non-null  object \n",
      " 13  BirthDate             18361 non-null  object \n",
      " 14  Education             18361 non-null  object \n",
      " 15  Occupation            18361 non-null  object \n",
      " 16  Gender                18361 non-null  object \n",
      " 17  MaritalStatus         18361 non-null  object \n",
      " 18  HomeOwnerFlag         18361 non-null  int64  \n",
      " 19  NumberCarsOwned       18361 non-null  int64  \n",
      " 20  NumberChildrenAtHome  18361 non-null  int64  \n",
      " 21  TotalChildren         18361 non-null  int64  \n",
      " 22  YearlyIncome          18361 non-null  int64  \n",
      " 23  LastUpdated           18361 non-null  object \n",
      " 24  BikeBuyer             18361 non-null  int64  \n",
      " 25  AvgMonthSpend         18361 non-null  float64\n",
      "dtypes: float64(1), int64(7), object(18)\n",
      "memory usage: 3.8+ MB\n"
     ]
    }
   ],
   "source": [
    "df.info()"
   ],
   "metadata": {
    "collapsed": false,
    "pycharm": {
     "name": "#%%\n"
    }
   }
  },
  {
   "cell_type": "code",
   "execution_count": 292,
   "outputs": [
    {
     "data": {
      "text/plain": "CustomerID                  0\nTitle                   18260\nFirstName                   0\nMiddleName               7789\nLastName                    0\nSuffix                  18358\nAddressLine1                0\nAddressLine2            18050\nCity                        0\nStateProvinceName           0\nCountryRegionName           0\nPostalCode                  0\nPhoneNumber                 0\nBirthDate                   0\nEducation                   0\nOccupation                  0\nGender                      0\nMaritalStatus               0\nHomeOwnerFlag               0\nNumberCarsOwned             0\nNumberChildrenAtHome        0\nTotalChildren               0\nYearlyIncome                0\nLastUpdated                 0\nBikeBuyer                   0\nAvgMonthSpend               0\ndtype: int64"
     },
     "execution_count": 292,
     "metadata": {},
     "output_type": "execute_result"
    }
   ],
   "source": [
    "df.isnull().sum()"
   ],
   "metadata": {
    "collapsed": false,
    "pycharm": {
     "name": "#%%\n"
    }
   }
  },
  {
   "cell_type": "markdown",
   "source": [
    "### Now as we can see from above information that we so much null values in Title middlename addressline2 etc so its good to remove them from df\n",
    "secondly w'll also remove firstname, lastname, PhoneNumber etc field as buyer have nothing to do we with name"
   ],
   "metadata": {
    "collapsed": false
   }
  },
  {
   "cell_type": "code",
   "execution_count": 293,
   "outputs": [
    {
     "data": {
      "text/plain": "             AddressLine1         City    StateProvinceName CountryRegionName  \\\n0      7090 C. Mount Hood   Wollongong      New South Wales         Australia   \n1     3651 Willow Lake Rd      Shawnee     British Columbia            Canada   \n2  1774 Tice Valley Blvd.  West Covina           California     United States   \n3         2103 Baldwin Dr    Liverpool              England    United Kingdom   \n4         Am Gallberg 234        Werne  Nordrhein-Westfalen           Germany   \n\n  PostalCode          PhoneNumber   BirthDate        Education  \\\n0       2500  1 (11) 500 555-0115  1987-11-13        Bachelors   \n1    V9B 2C3         787-555-0136  1972-07-21  Partial College   \n2      91791         120-555-0111  1985-11-09        Bachelors   \n3     L4 4HB  1 (11) 500 555-0167  1977-10-18  Partial College   \n4      59368  1 (11) 500 555-0113  1975-02-05  Partial College   \n\n       Occupation Gender MaritalStatus  HomeOwnerFlag  NumberCarsOwned  \\\n0        Clerical      M             M              1                3   \n1        Clerical      M             M              1                2   \n2        Clerical      F             S              0                3   \n3  Skilled Manual      M             M              1                2   \n4  Skilled Manual      M             S              1                1   \n\n   NumberChildrenAtHome  TotalChildren  YearlyIncome LastUpdated  BikeBuyer  \\\n0                     0              1         81916  2017-03-06          1   \n1                     1              2         81076  2017-03-06          1   \n2                     0              0         86387  2017-03-06          1   \n3                     1              2         61481  2017-03-06          1   \n4                     0              0         51804  2017-03-06          1   \n\n   AvgMonthSpend  \n0          50.97  \n1          53.11  \n2          54.08  \n3          56.93  \n4          55.41  ",
      "text/html": "<div>\n<style scoped>\n    .dataframe tbody tr th:only-of-type {\n        vertical-align: middle;\n    }\n\n    .dataframe tbody tr th {\n        vertical-align: top;\n    }\n\n    .dataframe thead th {\n        text-align: right;\n    }\n</style>\n<table border=\"1\" class=\"dataframe\">\n  <thead>\n    <tr style=\"text-align: right;\">\n      <th></th>\n      <th>AddressLine1</th>\n      <th>City</th>\n      <th>StateProvinceName</th>\n      <th>CountryRegionName</th>\n      <th>PostalCode</th>\n      <th>PhoneNumber</th>\n      <th>BirthDate</th>\n      <th>Education</th>\n      <th>Occupation</th>\n      <th>Gender</th>\n      <th>MaritalStatus</th>\n      <th>HomeOwnerFlag</th>\n      <th>NumberCarsOwned</th>\n      <th>NumberChildrenAtHome</th>\n      <th>TotalChildren</th>\n      <th>YearlyIncome</th>\n      <th>LastUpdated</th>\n      <th>BikeBuyer</th>\n      <th>AvgMonthSpend</th>\n    </tr>\n  </thead>\n  <tbody>\n    <tr>\n      <th>0</th>\n      <td>7090 C. Mount Hood</td>\n      <td>Wollongong</td>\n      <td>New South Wales</td>\n      <td>Australia</td>\n      <td>2500</td>\n      <td>1 (11) 500 555-0115</td>\n      <td>1987-11-13</td>\n      <td>Bachelors</td>\n      <td>Clerical</td>\n      <td>M</td>\n      <td>M</td>\n      <td>1</td>\n      <td>3</td>\n      <td>0</td>\n      <td>1</td>\n      <td>81916</td>\n      <td>2017-03-06</td>\n      <td>1</td>\n      <td>50.97</td>\n    </tr>\n    <tr>\n      <th>1</th>\n      <td>3651 Willow Lake Rd</td>\n      <td>Shawnee</td>\n      <td>British Columbia</td>\n      <td>Canada</td>\n      <td>V9B 2C3</td>\n      <td>787-555-0136</td>\n      <td>1972-07-21</td>\n      <td>Partial College</td>\n      <td>Clerical</td>\n      <td>M</td>\n      <td>M</td>\n      <td>1</td>\n      <td>2</td>\n      <td>1</td>\n      <td>2</td>\n      <td>81076</td>\n      <td>2017-03-06</td>\n      <td>1</td>\n      <td>53.11</td>\n    </tr>\n    <tr>\n      <th>2</th>\n      <td>1774 Tice Valley Blvd.</td>\n      <td>West Covina</td>\n      <td>California</td>\n      <td>United States</td>\n      <td>91791</td>\n      <td>120-555-0111</td>\n      <td>1985-11-09</td>\n      <td>Bachelors</td>\n      <td>Clerical</td>\n      <td>F</td>\n      <td>S</td>\n      <td>0</td>\n      <td>3</td>\n      <td>0</td>\n      <td>0</td>\n      <td>86387</td>\n      <td>2017-03-06</td>\n      <td>1</td>\n      <td>54.08</td>\n    </tr>\n    <tr>\n      <th>3</th>\n      <td>2103 Baldwin Dr</td>\n      <td>Liverpool</td>\n      <td>England</td>\n      <td>United Kingdom</td>\n      <td>L4 4HB</td>\n      <td>1 (11) 500 555-0167</td>\n      <td>1977-10-18</td>\n      <td>Partial College</td>\n      <td>Skilled Manual</td>\n      <td>M</td>\n      <td>M</td>\n      <td>1</td>\n      <td>2</td>\n      <td>1</td>\n      <td>2</td>\n      <td>61481</td>\n      <td>2017-03-06</td>\n      <td>1</td>\n      <td>56.93</td>\n    </tr>\n    <tr>\n      <th>4</th>\n      <td>Am Gallberg 234</td>\n      <td>Werne</td>\n      <td>Nordrhein-Westfalen</td>\n      <td>Germany</td>\n      <td>59368</td>\n      <td>1 (11) 500 555-0113</td>\n      <td>1975-02-05</td>\n      <td>Partial College</td>\n      <td>Skilled Manual</td>\n      <td>M</td>\n      <td>S</td>\n      <td>1</td>\n      <td>1</td>\n      <td>0</td>\n      <td>0</td>\n      <td>51804</td>\n      <td>2017-03-06</td>\n      <td>1</td>\n      <td>55.41</td>\n    </tr>\n  </tbody>\n</table>\n</div>"
     },
     "execution_count": 293,
     "metadata": {},
     "output_type": "execute_result"
    }
   ],
   "source": [
    "df.drop(['CustomerID', \"Title\", 'FirstName', 'MiddleName', 'LastName', 'AddressLine2', \"Suffix\"], axis=1,\n",
    "        inplace=True)\n",
    "df.head()"
   ],
   "metadata": {
    "collapsed": false,
    "pycharm": {
     "name": "#%%\n"
    }
   }
  },
  {
   "cell_type": "markdown",
   "source": [
    "#### Now lets check for unique values of fields to study the data"
   ],
   "metadata": {
    "collapsed": false
   }
  },
  {
   "cell_type": "code",
   "execution_count": 294,
   "outputs": [
    {
     "data": {
      "text/plain": "Index(['AddressLine1', 'City', 'StateProvinceName', 'CountryRegionName',\n       'PostalCode', 'PhoneNumber', 'BirthDate', 'Education', 'Occupation',\n       'Gender', 'MaritalStatus', 'HomeOwnerFlag', 'NumberCarsOwned',\n       'NumberChildrenAtHome', 'TotalChildren', 'YearlyIncome', 'LastUpdated',\n       'BikeBuyer', 'AvgMonthSpend'],\n      dtype='object')"
     },
     "execution_count": 294,
     "metadata": {},
     "output_type": "execute_result"
    }
   ],
   "source": [
    "df.columns"
   ],
   "metadata": {
    "collapsed": false,
    "pycharm": {
     "name": "#%%\n"
    }
   }
  },
  {
   "cell_type": "code",
   "execution_count": 295,
   "outputs": [
    {
     "data": {
      "text/plain": "AddressLine1            12742\nCity                      269\nStateProvinceName          54\nCountryRegionName           6\nPostalCode                323\nPhoneNumber              8836\nBirthDate                8230\nEducation                   5\nOccupation                  5\nGender                      2\nMaritalStatus               2\nHomeOwnerFlag               2\nNumberCarsOwned             6\nNumberChildrenAtHome        4\nTotalChildren               4\nYearlyIncome            15356\nLastUpdated                 2\nBikeBuyer                   2\nAvgMonthSpend            1803\ndtype: int64"
     },
     "execution_count": 295,
     "metadata": {},
     "output_type": "execute_result"
    }
   ],
   "source": [
    "df.nunique()"
   ],
   "metadata": {
    "collapsed": false,
    "pycharm": {
     "name": "#%%\n"
    }
   }
  },
  {
   "cell_type": "markdown",
   "source": [
    "Drop AddessLine1, PostalCode,StateProvinceName because they large amount of unique data"
   ],
   "metadata": {
    "collapsed": false
   }
  },
  {
   "cell_type": "code",
   "execution_count": 296,
   "outputs": [
    {
     "data": {
      "text/plain": "          City CountryRegionName   BirthDate        Education      Occupation  \\\n0   Wollongong         Australia  1987-11-13        Bachelors        Clerical   \n1      Shawnee            Canada  1972-07-21  Partial College        Clerical   \n2  West Covina     United States  1985-11-09        Bachelors        Clerical   \n3    Liverpool    United Kingdom  1977-10-18  Partial College  Skilled Manual   \n4        Werne           Germany  1975-02-05  Partial College  Skilled Manual   \n\n  Gender MaritalStatus  HomeOwnerFlag  NumberCarsOwned  NumberChildrenAtHome  \\\n0      M             M              1                3                     0   \n1      M             M              1                2                     1   \n2      F             S              0                3                     0   \n3      M             M              1                2                     1   \n4      M             S              1                1                     0   \n\n   TotalChildren  YearlyIncome LastUpdated  BikeBuyer  AvgMonthSpend  \n0              1         81916  2017-03-06          1          50.97  \n1              2         81076  2017-03-06          1          53.11  \n2              0         86387  2017-03-06          1          54.08  \n3              2         61481  2017-03-06          1          56.93  \n4              0         51804  2017-03-06          1          55.41  ",
      "text/html": "<div>\n<style scoped>\n    .dataframe tbody tr th:only-of-type {\n        vertical-align: middle;\n    }\n\n    .dataframe tbody tr th {\n        vertical-align: top;\n    }\n\n    .dataframe thead th {\n        text-align: right;\n    }\n</style>\n<table border=\"1\" class=\"dataframe\">\n  <thead>\n    <tr style=\"text-align: right;\">\n      <th></th>\n      <th>City</th>\n      <th>CountryRegionName</th>\n      <th>BirthDate</th>\n      <th>Education</th>\n      <th>Occupation</th>\n      <th>Gender</th>\n      <th>MaritalStatus</th>\n      <th>HomeOwnerFlag</th>\n      <th>NumberCarsOwned</th>\n      <th>NumberChildrenAtHome</th>\n      <th>TotalChildren</th>\n      <th>YearlyIncome</th>\n      <th>LastUpdated</th>\n      <th>BikeBuyer</th>\n      <th>AvgMonthSpend</th>\n    </tr>\n  </thead>\n  <tbody>\n    <tr>\n      <th>0</th>\n      <td>Wollongong</td>\n      <td>Australia</td>\n      <td>1987-11-13</td>\n      <td>Bachelors</td>\n      <td>Clerical</td>\n      <td>M</td>\n      <td>M</td>\n      <td>1</td>\n      <td>3</td>\n      <td>0</td>\n      <td>1</td>\n      <td>81916</td>\n      <td>2017-03-06</td>\n      <td>1</td>\n      <td>50.97</td>\n    </tr>\n    <tr>\n      <th>1</th>\n      <td>Shawnee</td>\n      <td>Canada</td>\n      <td>1972-07-21</td>\n      <td>Partial College</td>\n      <td>Clerical</td>\n      <td>M</td>\n      <td>M</td>\n      <td>1</td>\n      <td>2</td>\n      <td>1</td>\n      <td>2</td>\n      <td>81076</td>\n      <td>2017-03-06</td>\n      <td>1</td>\n      <td>53.11</td>\n    </tr>\n    <tr>\n      <th>2</th>\n      <td>West Covina</td>\n      <td>United States</td>\n      <td>1985-11-09</td>\n      <td>Bachelors</td>\n      <td>Clerical</td>\n      <td>F</td>\n      <td>S</td>\n      <td>0</td>\n      <td>3</td>\n      <td>0</td>\n      <td>0</td>\n      <td>86387</td>\n      <td>2017-03-06</td>\n      <td>1</td>\n      <td>54.08</td>\n    </tr>\n    <tr>\n      <th>3</th>\n      <td>Liverpool</td>\n      <td>United Kingdom</td>\n      <td>1977-10-18</td>\n      <td>Partial College</td>\n      <td>Skilled Manual</td>\n      <td>M</td>\n      <td>M</td>\n      <td>1</td>\n      <td>2</td>\n      <td>1</td>\n      <td>2</td>\n      <td>61481</td>\n      <td>2017-03-06</td>\n      <td>1</td>\n      <td>56.93</td>\n    </tr>\n    <tr>\n      <th>4</th>\n      <td>Werne</td>\n      <td>Germany</td>\n      <td>1975-02-05</td>\n      <td>Partial College</td>\n      <td>Skilled Manual</td>\n      <td>M</td>\n      <td>S</td>\n      <td>1</td>\n      <td>1</td>\n      <td>0</td>\n      <td>0</td>\n      <td>51804</td>\n      <td>2017-03-06</td>\n      <td>1</td>\n      <td>55.41</td>\n    </tr>\n  </tbody>\n</table>\n</div>"
     },
     "execution_count": 296,
     "metadata": {},
     "output_type": "execute_result"
    }
   ],
   "source": [
    "df.drop(['AddressLine1', 'PostalCode', 'StateProvinceName','PhoneNumber'], axis=1, inplace=True)\n",
    "df.head()"
   ],
   "metadata": {
    "collapsed": false,
    "pycharm": {
     "name": "#%%\n"
    }
   }
  },
  {
   "cell_type": "markdown",
   "source": [
    "### let convert all unique categorical Data into numerical"
   ],
   "metadata": {
    "collapsed": false
   }
  },
  {
   "cell_type": "code",
   "execution_count": 297,
   "outputs": [],
   "source": [
    "df['CountryRegionName'] = pd.factorize(df['CountryRegionName'])[0]\n",
    "df['City'] = pd.factorize(df['City'])[0]\n",
    "df['Education'] = pd.factorize(df['Education'])[0]\n",
    "df['Occupation'] = pd.factorize(df['Occupation'])[0]\n",
    "df['Gender'] = pd.factorize(df['Gender'])[0]\n",
    "df['MaritalStatus'] = pd.factorize(df['MaritalStatus'])[0]\n"
   ],
   "metadata": {
    "collapsed": false,
    "pycharm": {
     "name": "#%%\n"
    }
   }
  },
  {
   "cell_type": "code",
   "execution_count": 298,
   "outputs": [
    {
     "data": {
      "text/plain": "Index(['City', 'CountryRegionName', 'BirthDate', 'Education', 'Occupation',\n       'Gender', 'MaritalStatus', 'HomeOwnerFlag', 'NumberCarsOwned',\n       'NumberChildrenAtHome', 'TotalChildren', 'YearlyIncome', 'LastUpdated',\n       'BikeBuyer', 'AvgMonthSpend'],\n      dtype='object')"
     },
     "execution_count": 298,
     "metadata": {},
     "output_type": "execute_result"
    }
   ],
   "source": [
    "df.columns"
   ],
   "metadata": {
    "collapsed": false,
    "pycharm": {
     "name": "#%%\n"
    }
   }
  },
  {
   "cell_type": "markdown",
   "source": [
    "Sales have nothing to do with month or day of birth of customer but we can used year as there are chances that this particular age group can buy bike"
   ],
   "metadata": {
    "collapsed": false
   }
  },
  {
   "cell_type": "code",
   "execution_count": 299,
   "outputs": [
    {
     "data": {
      "text/plain": "   City  CountryRegionName  Education  Occupation  Gender  MaritalStatus  \\\n0     0                  0          0           0       0              0   \n1     1                  1          1           0       0              0   \n2     2                  2          0           0       1              1   \n3     3                  3          1           1       0              0   \n4     4                  4          1           1       0              1   \n\n   HomeOwnerFlag  NumberCarsOwned  NumberChildrenAtHome  TotalChildren  \\\n0              1                3                     0              1   \n1              1                2                     1              2   \n2              0                3                     0              0   \n3              1                2                     1              2   \n4              1                1                     0              0   \n\n   YearlyIncome LastUpdated  BikeBuyer  AvgMonthSpend  Age  \n0         81916  2017-03-06          1          50.97   34  \n1         81076  2017-03-06          1          53.11   50  \n2         86387  2017-03-06          1          54.08   36  \n3         61481  2017-03-06          1          56.93   44  \n4         51804  2017-03-06          1          55.41   47  ",
      "text/html": "<div>\n<style scoped>\n    .dataframe tbody tr th:only-of-type {\n        vertical-align: middle;\n    }\n\n    .dataframe tbody tr th {\n        vertical-align: top;\n    }\n\n    .dataframe thead th {\n        text-align: right;\n    }\n</style>\n<table border=\"1\" class=\"dataframe\">\n  <thead>\n    <tr style=\"text-align: right;\">\n      <th></th>\n      <th>City</th>\n      <th>CountryRegionName</th>\n      <th>Education</th>\n      <th>Occupation</th>\n      <th>Gender</th>\n      <th>MaritalStatus</th>\n      <th>HomeOwnerFlag</th>\n      <th>NumberCarsOwned</th>\n      <th>NumberChildrenAtHome</th>\n      <th>TotalChildren</th>\n      <th>YearlyIncome</th>\n      <th>LastUpdated</th>\n      <th>BikeBuyer</th>\n      <th>AvgMonthSpend</th>\n      <th>Age</th>\n    </tr>\n  </thead>\n  <tbody>\n    <tr>\n      <th>0</th>\n      <td>0</td>\n      <td>0</td>\n      <td>0</td>\n      <td>0</td>\n      <td>0</td>\n      <td>0</td>\n      <td>1</td>\n      <td>3</td>\n      <td>0</td>\n      <td>1</td>\n      <td>81916</td>\n      <td>2017-03-06</td>\n      <td>1</td>\n      <td>50.97</td>\n      <td>34</td>\n    </tr>\n    <tr>\n      <th>1</th>\n      <td>1</td>\n      <td>1</td>\n      <td>1</td>\n      <td>0</td>\n      <td>0</td>\n      <td>0</td>\n      <td>1</td>\n      <td>2</td>\n      <td>1</td>\n      <td>2</td>\n      <td>81076</td>\n      <td>2017-03-06</td>\n      <td>1</td>\n      <td>53.11</td>\n      <td>50</td>\n    </tr>\n    <tr>\n      <th>2</th>\n      <td>2</td>\n      <td>2</td>\n      <td>0</td>\n      <td>0</td>\n      <td>1</td>\n      <td>1</td>\n      <td>0</td>\n      <td>3</td>\n      <td>0</td>\n      <td>0</td>\n      <td>86387</td>\n      <td>2017-03-06</td>\n      <td>1</td>\n      <td>54.08</td>\n      <td>36</td>\n    </tr>\n    <tr>\n      <th>3</th>\n      <td>3</td>\n      <td>3</td>\n      <td>1</td>\n      <td>1</td>\n      <td>0</td>\n      <td>0</td>\n      <td>1</td>\n      <td>2</td>\n      <td>1</td>\n      <td>2</td>\n      <td>61481</td>\n      <td>2017-03-06</td>\n      <td>1</td>\n      <td>56.93</td>\n      <td>44</td>\n    </tr>\n    <tr>\n      <th>4</th>\n      <td>4</td>\n      <td>4</td>\n      <td>1</td>\n      <td>1</td>\n      <td>0</td>\n      <td>1</td>\n      <td>1</td>\n      <td>1</td>\n      <td>0</td>\n      <td>0</td>\n      <td>51804</td>\n      <td>2017-03-06</td>\n      <td>1</td>\n      <td>55.41</td>\n      <td>47</td>\n    </tr>\n  </tbody>\n</table>\n</div>"
     },
     "execution_count": 299,
     "metadata": {},
     "output_type": "execute_result"
    }
   ],
   "source": [
    "df['BirthDate']= pd.to_datetime(df['BirthDate'])\n",
    "\n",
    "import datetime\n",
    "currentTime = datetime.datetime.now()\n",
    "def get_age(birth_date,today=currentTime):\n",
    "    y=today-birth_date\n",
    "    return y.days//365\n",
    "\n",
    "df['Age']=df['BirthDate'].apply(lambda x: get_age(x))\n",
    "\n",
    "df.drop(['BirthDate'],axis=1,inplace=True)\n",
    "\n",
    "df.head()"
   ],
   "metadata": {
    "collapsed": false,
    "pycharm": {
     "name": "#%%\n"
    }
   }
  },
  {
   "cell_type": "code",
   "execution_count": 300,
   "outputs": [],
   "source": [
    "df.drop('LastUpdated',inplace=True,axis=1)"
   ],
   "metadata": {
    "collapsed": false,
    "pycharm": {
     "name": "#%%\n"
    }
   }
  },
  {
   "cell_type": "code",
   "execution_count": 301,
   "outputs": [
    {
     "data": {
      "text/plain": "City                      269\nCountryRegionName           6\nEducation                   5\nOccupation                  5\nGender                      2\nMaritalStatus               2\nHomeOwnerFlag               2\nNumberCarsOwned             6\nNumberChildrenAtHome        4\nTotalChildren               4\nYearlyIncome            15356\nBikeBuyer                   2\nAvgMonthSpend            1803\nAge                        72\ndtype: int64"
     },
     "execution_count": 301,
     "metadata": {},
     "output_type": "execute_result"
    }
   ],
   "source": [
    "df.nunique()"
   ],
   "metadata": {
    "collapsed": false,
    "pycharm": {
     "name": "#%%\n"
    }
   }
  },
  {
   "cell_type": "markdown",
   "source": [
    "### Now let find relations between data"
   ],
   "metadata": {
    "collapsed": false
   }
  },
  {
   "cell_type": "code",
   "execution_count": 302,
   "outputs": [
    {
     "data": {
      "text/plain": "                          City  CountryRegionName  Education  Occupation  \\\nCity                  1.000000           0.001239  -0.009386    0.001523   \nCountryRegionName     0.001239           1.000000   0.063624   -0.032256   \nEducation            -0.009386           0.063624   1.000000    0.105244   \nOccupation            0.001523          -0.032256   0.105244    1.000000   \nGender               -0.015282          -0.000521   0.003702    0.000673   \nMaritalStatus         0.001673           0.051352   0.009822   -0.036190   \nHomeOwnerFlag        -0.008938          -0.045409   0.006594    0.181713   \nNumberCarsOwned       0.005149          -0.031197  -0.035596    0.097833   \nNumberChildrenAtHome -0.009525          -0.004841  -0.011119    0.004462   \nTotalChildren        -0.004055          -0.007766   0.000168    0.009560   \nYearlyIncome          0.004228          -0.060628  -0.013467    0.436306   \nBikeBuyer            -0.001214          -0.016616  -0.040062   -0.005817   \nAvgMonthSpend         0.005843          -0.010695  -0.051131    0.119602   \nAge                  -0.017974           0.008521   0.018449    0.021978   \n\n                        Gender  MaritalStatus  HomeOwnerFlag  NumberCarsOwned  \\\nCity                 -0.015282       0.001673      -0.008938         0.005149   \nCountryRegionName    -0.000521       0.051352      -0.045409        -0.031197   \nEducation             0.003702       0.009822       0.006594        -0.035596   \nOccupation            0.000673      -0.036190       0.181713         0.097833   \nGender                1.000000       0.042809      -0.009935        -0.003541   \nMaritalStatus         0.042809       1.000000      -0.442841        -0.051823   \nHomeOwnerFlag        -0.009935      -0.442841       1.000000         0.209787   \nNumberCarsOwned      -0.003541      -0.051823       0.209787         1.000000   \nNumberChildrenAtHome -0.014645      -0.471534       0.368459         0.020393   \nTotalChildren        -0.030360      -0.750911       0.578197         0.030430   \nYearlyIncome          0.000354      -0.048784       0.356243         0.477300   \nBikeBuyer            -0.116036      -0.189371       0.229115         0.185078   \nAvgMonthSpend        -0.310572       0.070198       0.290785         0.275378   \nAge                   0.002670      -0.197888       0.642200         0.041343   \n\n                      NumberChildrenAtHome  TotalChildren  YearlyIncome  \\\nCity                             -0.009525      -0.004055      0.004228   \nCountryRegionName                -0.004841      -0.007766     -0.060628   \nEducation                        -0.011119       0.000168     -0.013467   \nOccupation                        0.004462       0.009560      0.436306   \nGender                           -0.014645      -0.030360      0.000354   \nMaritalStatus                    -0.471534      -0.750911     -0.048784   \nHomeOwnerFlag                     0.368459       0.578197      0.356243   \nNumberCarsOwned                   0.020393       0.030430      0.477300   \nNumberChildrenAtHome              1.000000       0.606077      0.005990   \nTotalChildren                     0.606077       1.000000      0.022014   \nYearlyIncome                      0.005990       0.022014      1.000000   \nBikeBuyer                         0.359777       0.209479      0.249457   \nAvgMonthSpend                     0.145177       0.026138      0.530126   \nAge                               0.326315       0.547722      0.026257   \n\n                      BikeBuyer  AvgMonthSpend       Age  \nCity                  -0.001214       0.005843 -0.017974  \nCountryRegionName     -0.016616      -0.010695  0.008521  \nEducation             -0.040062      -0.051131  0.018449  \nOccupation            -0.005817       0.119602  0.021978  \nGender                -0.116036      -0.310572  0.002670  \nMaritalStatus         -0.189371       0.070198 -0.197888  \nHomeOwnerFlag          0.229115       0.290785  0.642200  \nNumberCarsOwned        0.185078       0.275378  0.041343  \nNumberChildrenAtHome   0.359777       0.145177  0.326315  \nTotalChildren          0.209479       0.026138  0.547722  \nYearlyIncome           0.249457       0.530126  0.026257  \nBikeBuyer              1.000000       0.280268  0.097205  \nAvgMonthSpend          0.280268       1.000000  0.111255  \nAge                    0.097205       0.111255  1.000000  ",
      "text/html": "<div>\n<style scoped>\n    .dataframe tbody tr th:only-of-type {\n        vertical-align: middle;\n    }\n\n    .dataframe tbody tr th {\n        vertical-align: top;\n    }\n\n    .dataframe thead th {\n        text-align: right;\n    }\n</style>\n<table border=\"1\" class=\"dataframe\">\n  <thead>\n    <tr style=\"text-align: right;\">\n      <th></th>\n      <th>City</th>\n      <th>CountryRegionName</th>\n      <th>Education</th>\n      <th>Occupation</th>\n      <th>Gender</th>\n      <th>MaritalStatus</th>\n      <th>HomeOwnerFlag</th>\n      <th>NumberCarsOwned</th>\n      <th>NumberChildrenAtHome</th>\n      <th>TotalChildren</th>\n      <th>YearlyIncome</th>\n      <th>BikeBuyer</th>\n      <th>AvgMonthSpend</th>\n      <th>Age</th>\n    </tr>\n  </thead>\n  <tbody>\n    <tr>\n      <th>City</th>\n      <td>1.000000</td>\n      <td>0.001239</td>\n      <td>-0.009386</td>\n      <td>0.001523</td>\n      <td>-0.015282</td>\n      <td>0.001673</td>\n      <td>-0.008938</td>\n      <td>0.005149</td>\n      <td>-0.009525</td>\n      <td>-0.004055</td>\n      <td>0.004228</td>\n      <td>-0.001214</td>\n      <td>0.005843</td>\n      <td>-0.017974</td>\n    </tr>\n    <tr>\n      <th>CountryRegionName</th>\n      <td>0.001239</td>\n      <td>1.000000</td>\n      <td>0.063624</td>\n      <td>-0.032256</td>\n      <td>-0.000521</td>\n      <td>0.051352</td>\n      <td>-0.045409</td>\n      <td>-0.031197</td>\n      <td>-0.004841</td>\n      <td>-0.007766</td>\n      <td>-0.060628</td>\n      <td>-0.016616</td>\n      <td>-0.010695</td>\n      <td>0.008521</td>\n    </tr>\n    <tr>\n      <th>Education</th>\n      <td>-0.009386</td>\n      <td>0.063624</td>\n      <td>1.000000</td>\n      <td>0.105244</td>\n      <td>0.003702</td>\n      <td>0.009822</td>\n      <td>0.006594</td>\n      <td>-0.035596</td>\n      <td>-0.011119</td>\n      <td>0.000168</td>\n      <td>-0.013467</td>\n      <td>-0.040062</td>\n      <td>-0.051131</td>\n      <td>0.018449</td>\n    </tr>\n    <tr>\n      <th>Occupation</th>\n      <td>0.001523</td>\n      <td>-0.032256</td>\n      <td>0.105244</td>\n      <td>1.000000</td>\n      <td>0.000673</td>\n      <td>-0.036190</td>\n      <td>0.181713</td>\n      <td>0.097833</td>\n      <td>0.004462</td>\n      <td>0.009560</td>\n      <td>0.436306</td>\n      <td>-0.005817</td>\n      <td>0.119602</td>\n      <td>0.021978</td>\n    </tr>\n    <tr>\n      <th>Gender</th>\n      <td>-0.015282</td>\n      <td>-0.000521</td>\n      <td>0.003702</td>\n      <td>0.000673</td>\n      <td>1.000000</td>\n      <td>0.042809</td>\n      <td>-0.009935</td>\n      <td>-0.003541</td>\n      <td>-0.014645</td>\n      <td>-0.030360</td>\n      <td>0.000354</td>\n      <td>-0.116036</td>\n      <td>-0.310572</td>\n      <td>0.002670</td>\n    </tr>\n    <tr>\n      <th>MaritalStatus</th>\n      <td>0.001673</td>\n      <td>0.051352</td>\n      <td>0.009822</td>\n      <td>-0.036190</td>\n      <td>0.042809</td>\n      <td>1.000000</td>\n      <td>-0.442841</td>\n      <td>-0.051823</td>\n      <td>-0.471534</td>\n      <td>-0.750911</td>\n      <td>-0.048784</td>\n      <td>-0.189371</td>\n      <td>0.070198</td>\n      <td>-0.197888</td>\n    </tr>\n    <tr>\n      <th>HomeOwnerFlag</th>\n      <td>-0.008938</td>\n      <td>-0.045409</td>\n      <td>0.006594</td>\n      <td>0.181713</td>\n      <td>-0.009935</td>\n      <td>-0.442841</td>\n      <td>1.000000</td>\n      <td>0.209787</td>\n      <td>0.368459</td>\n      <td>0.578197</td>\n      <td>0.356243</td>\n      <td>0.229115</td>\n      <td>0.290785</td>\n      <td>0.642200</td>\n    </tr>\n    <tr>\n      <th>NumberCarsOwned</th>\n      <td>0.005149</td>\n      <td>-0.031197</td>\n      <td>-0.035596</td>\n      <td>0.097833</td>\n      <td>-0.003541</td>\n      <td>-0.051823</td>\n      <td>0.209787</td>\n      <td>1.000000</td>\n      <td>0.020393</td>\n      <td>0.030430</td>\n      <td>0.477300</td>\n      <td>0.185078</td>\n      <td>0.275378</td>\n      <td>0.041343</td>\n    </tr>\n    <tr>\n      <th>NumberChildrenAtHome</th>\n      <td>-0.009525</td>\n      <td>-0.004841</td>\n      <td>-0.011119</td>\n      <td>0.004462</td>\n      <td>-0.014645</td>\n      <td>-0.471534</td>\n      <td>0.368459</td>\n      <td>0.020393</td>\n      <td>1.000000</td>\n      <td>0.606077</td>\n      <td>0.005990</td>\n      <td>0.359777</td>\n      <td>0.145177</td>\n      <td>0.326315</td>\n    </tr>\n    <tr>\n      <th>TotalChildren</th>\n      <td>-0.004055</td>\n      <td>-0.007766</td>\n      <td>0.000168</td>\n      <td>0.009560</td>\n      <td>-0.030360</td>\n      <td>-0.750911</td>\n      <td>0.578197</td>\n      <td>0.030430</td>\n      <td>0.606077</td>\n      <td>1.000000</td>\n      <td>0.022014</td>\n      <td>0.209479</td>\n      <td>0.026138</td>\n      <td>0.547722</td>\n    </tr>\n    <tr>\n      <th>YearlyIncome</th>\n      <td>0.004228</td>\n      <td>-0.060628</td>\n      <td>-0.013467</td>\n      <td>0.436306</td>\n      <td>0.000354</td>\n      <td>-0.048784</td>\n      <td>0.356243</td>\n      <td>0.477300</td>\n      <td>0.005990</td>\n      <td>0.022014</td>\n      <td>1.000000</td>\n      <td>0.249457</td>\n      <td>0.530126</td>\n      <td>0.026257</td>\n    </tr>\n    <tr>\n      <th>BikeBuyer</th>\n      <td>-0.001214</td>\n      <td>-0.016616</td>\n      <td>-0.040062</td>\n      <td>-0.005817</td>\n      <td>-0.116036</td>\n      <td>-0.189371</td>\n      <td>0.229115</td>\n      <td>0.185078</td>\n      <td>0.359777</td>\n      <td>0.209479</td>\n      <td>0.249457</td>\n      <td>1.000000</td>\n      <td>0.280268</td>\n      <td>0.097205</td>\n    </tr>\n    <tr>\n      <th>AvgMonthSpend</th>\n      <td>0.005843</td>\n      <td>-0.010695</td>\n      <td>-0.051131</td>\n      <td>0.119602</td>\n      <td>-0.310572</td>\n      <td>0.070198</td>\n      <td>0.290785</td>\n      <td>0.275378</td>\n      <td>0.145177</td>\n      <td>0.026138</td>\n      <td>0.530126</td>\n      <td>0.280268</td>\n      <td>1.000000</td>\n      <td>0.111255</td>\n    </tr>\n    <tr>\n      <th>Age</th>\n      <td>-0.017974</td>\n      <td>0.008521</td>\n      <td>0.018449</td>\n      <td>0.021978</td>\n      <td>0.002670</td>\n      <td>-0.197888</td>\n      <td>0.642200</td>\n      <td>0.041343</td>\n      <td>0.326315</td>\n      <td>0.547722</td>\n      <td>0.026257</td>\n      <td>0.097205</td>\n      <td>0.111255</td>\n      <td>1.000000</td>\n    </tr>\n  </tbody>\n</table>\n</div>"
     },
     "execution_count": 302,
     "metadata": {},
     "output_type": "execute_result"
    }
   ],
   "source": [
    "df.corr()"
   ],
   "metadata": {
    "collapsed": false,
    "pycharm": {
     "name": "#%%\n"
    }
   }
  },
  {
   "cell_type": "code",
   "execution_count": 303,
   "outputs": [
    {
     "data": {
      "text/plain": "<matplotlib.axes._subplots.AxesSubplot at 0x2be8867da88>"
     },
     "execution_count": 303,
     "metadata": {},
     "output_type": "execute_result"
    },
    {
     "data": {
      "text/plain": "<Figure size 432x288 with 2 Axes>",
      "image/png": "[encoded data removed]"
     },
     "metadata": {
      "needs_background": "light"
     },
     "output_type": "display_data"
    }
   ],
   "source": [
    "sb.heatmap(df.corr(),cmap=\"Blues\")"
   ],
   "metadata": {
    "collapsed": false,
    "pycharm": {
     "name": "#%%\n"
    }
   }
  },
  {
   "cell_type": "markdown",
   "source": [
    "##Standardization/Normalization\n"
   ],
   "metadata": {
    "collapsed": false
   }
  },
  {
   "cell_type": "code",
   "execution_count": 306,
   "outputs": [],
   "source": [
    "from sklearn.preprocessing import MinMaxScaler\n",
    "\n",
    "scaler=MinMaxScaler()\n",
    "scaled=scaler.fit_transform(df[['YearlyIncome','Age','AvgMonthSpend']])\n",
    "df['YearlyIncome_scaled']=scaled[:,0]\n",
    "df['Age_scaled']=scaled[:,1]\n",
    "df['AvgMonthSpend_scaled']=scaled[:,2]\n",
    "df.drop(['YearlyIncome','Age','AvgMonthSpend'],axis=1,inplace=True)"
   ],
   "metadata": {
    "collapsed": false,
    "pycharm": {
     "name": "#%%\n"
    }
   }
  },
  {
   "cell_type": "code",
   "execution_count": 307,
   "outputs": [
    {
     "data": {
      "text/plain": "   City  CountryRegionName  Education  Occupation  Gender  MaritalStatus  \\\n0     0                  0          0           0       0              0   \n1     1                  1          1           0       0              0   \n2     2                  2          0           0       1              1   \n3     3                  3          1           1       0              0   \n4     4                  4          1           1       0              1   \n\n   HomeOwnerFlag  NumberCarsOwned  NumberChildrenAtHome  TotalChildren  \\\n0              1                3                     0              1   \n1              1                2                     1              2   \n2              0                3                     0              0   \n3              1                2                     1              2   \n4              1                1                     0              0   \n\n   BikeBuyer  YearlyIncome_scaled  Age_scaled  AvgMonthSpend_scaled  \n0          1             0.496842    0.183099              0.324210  \n1          1             0.489453    0.408451              0.425201  \n2          1             0.536172    0.211268              0.470977  \n3          1             0.317083    0.323944              0.605474  \n4          1             0.231958    0.366197              0.533742  ",
      "text/html": "<div>\n<style scoped>\n    .dataframe tbody tr th:only-of-type {\n        vertical-align: middle;\n    }\n\n    .dataframe tbody tr th {\n        vertical-align: top;\n    }\n\n    .dataframe thead th {\n        text-align: right;\n    }\n</style>\n<table border=\"1\" class=\"dataframe\">\n  <thead>\n    <tr style=\"text-align: right;\">\n      <th></th>\n      <th>City</th>\n      <th>CountryRegionName</th>\n      <th>Education</th>\n      <th>Occupation</th>\n      <th>Gender</th>\n      <th>MaritalStatus</th>\n      <th>HomeOwnerFlag</th>\n      <th>NumberCarsOwned</th>\n      <th>NumberChildrenAtHome</th>\n      <th>TotalChildren</th>\n      <th>BikeBuyer</th>\n      <th>YearlyIncome_scaled</th>\n      <th>Age_scaled</th>\n      <th>AvgMonthSpend_scaled</th>\n    </tr>\n  </thead>\n  <tbody>\n    <tr>\n      <th>0</th>\n      <td>0</td>\n      <td>0</td>\n      <td>0</td>\n      <td>0</td>\n      <td>0</td>\n      <td>0</td>\n      <td>1</td>\n      <td>3</td>\n      <td>0</td>\n      <td>1</td>\n      <td>1</td>\n      <td>0.496842</td>\n      <td>0.183099</td>\n      <td>0.324210</td>\n    </tr>\n    <tr>\n      <th>1</th>\n      <td>1</td>\n      <td>1</td>\n      <td>1</td>\n      <td>0</td>\n      <td>0</td>\n      <td>0</td>\n      <td>1</td>\n      <td>2</td>\n      <td>1</td>\n      <td>2</td>\n      <td>1</td>\n      <td>0.489453</td>\n      <td>0.408451</td>\n      <td>0.425201</td>\n    </tr>\n    <tr>\n      <th>2</th>\n      <td>2</td>\n      <td>2</td>\n      <td>0</td>\n      <td>0</td>\n      <td>1</td>\n      <td>1</td>\n      <td>0</td>\n      <td>3</td>\n      <td>0</td>\n      <td>0</td>\n      <td>1</td>\n      <td>0.536172</td>\n      <td>0.211268</td>\n      <td>0.470977</td>\n    </tr>\n    <tr>\n      <th>3</th>\n      <td>3</td>\n      <td>3</td>\n      <td>1</td>\n      <td>1</td>\n      <td>0</td>\n      <td>0</td>\n      <td>1</td>\n      <td>2</td>\n      <td>1</td>\n      <td>2</td>\n      <td>1</td>\n      <td>0.317083</td>\n      <td>0.323944</td>\n      <td>0.605474</td>\n    </tr>\n    <tr>\n      <th>4</th>\n      <td>4</td>\n      <td>4</td>\n      <td>1</td>\n      <td>1</td>\n      <td>0</td>\n      <td>1</td>\n      <td>1</td>\n      <td>1</td>\n      <td>0</td>\n      <td>0</td>\n      <td>1</td>\n      <td>0.231958</td>\n      <td>0.366197</td>\n      <td>0.533742</td>\n    </tr>\n  </tbody>\n</table>\n</div>"
     },
     "execution_count": 307,
     "metadata": {},
     "output_type": "execute_result"
    }
   ],
   "source": [
    "df.head()"
   ],
   "metadata": {
    "collapsed": false,
    "pycharm": {
     "name": "#%%\n"
    }
   }
  },
  {
   "cell_type": "code",
   "execution_count": 323,
   "outputs": [
    {
     "data": {
      "text/plain": "0.3369737626324949"
     },
     "execution_count": 323,
     "metadata": {},
     "output_type": "execute_result"
    }
   ],
   "source": [
    "from scipy.spatial import distance\n",
    "\n",
    "distance.cosine(df['Education'].values,df['AvgMonthSpend_scaled'].values)"
   ],
   "metadata": {
    "collapsed": false,
    "pycharm": {
     "name": "#%%\n"
    }
   }
  },
  {
   "cell_type": "code",
   "execution_count": 324,
   "outputs": [
    {
     "data": {
      "text/plain": "1.0"
     },
     "execution_count": 324,
     "metadata": {},
     "output_type": "execute_result"
    }
   ],
   "source": [
    "distance.jaccard(df['Education'].values,df['AvgMonthSpend_scaled'].values)"
   ],
   "metadata": {
    "collapsed": false,
    "pycharm": {
     "name": "#%%\n"
    }
   }
  },
  {
   "cell_type": "code",
   "execution_count": 320,
   "outputs": [
    {
     "data": {
      "text/plain": "-0.009386065880279352"
     },
     "execution_count": 320,
     "metadata": {},
     "output_type": "execute_result"
    }
   ],
   "source": [],
   "metadata": {
    "collapsed": false,
    "pycharm": {
     "name": "#%%\n"
    }
   }
  },
  {
   "cell_type": "code",
   "execution_count": null,
   "outputs": [],
   "source": [],
   "metadata": {
    "collapsed": false,
    "pycharm": {
     "name": "#%%\n"
    }
   }
  }
 ],
 "metadata": {
  "kernelspec": {
   "display_name": "Python 3",
   "language": "python",
   "name": "python3"
  },
  "language_info": {
   "codemirror_mode": {
    "name": "ipython",
    "version": 2
   },
   "file_extension": ".py",
   "mimetype": "text/x-python",
   "name": "python",
   "nbconvert_exporter": "python",
   "pygments_lexer": "ipython2",
   "version": "2.7.6"
  }
 },
 "nbformat": 4,
 "nbformat_minor": 0
}